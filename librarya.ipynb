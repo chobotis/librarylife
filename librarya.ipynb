{
 "cells": [
  {
   "cell_type": "code",
   "execution_count": 8,
   "metadata": {},
   "outputs": [
    {
     "name": "stdout",
     "output_type": "stream",
     "text": [
      "Connection to MySQL DB successful\n"
     ]
    }
   ],
   "source": [
    "import mysql.connector\n",
    "from mysql.connector import Error\n",
    "\n",
    "# Function to create a connection to MySQL\n",
    "def create_connection(host_name, user_name, user_password, db_name=None):\n",
    "    connection = None\n",
    "    try:\n",
    "        connection = mysql.connector.connect(\n",
    "            host=host_name,\n",
    "            user=user_name,\n",
    "            passwd=user_password,\n",
    "            database=db_name\n",
    "        )\n",
    "        print(\"Connection to MySQL DB successful\")\n",
    "    except Error as e:\n",
    "        print(f\"The error '{e}' occurred\")\n",
    "    return connection\n",
    "\n",
    "# Function to execute a query with parameters\n",
    "def execute_query(connection, query, data=None):\n",
    "    cursor = connection.cursor()\n",
    "    try:\n",
    "        if data:\n",
    "            cursor.execute(query, data)  # Use parameters if provided\n",
    "        else:\n",
    "            cursor.execute(query)  # Execute without parameters\n",
    "        connection.commit()  # Commit the transaction\n",
    "        print(\"Query executed successfully\")\n",
    "    except Error as e:\n",
    "        print(f\"The error '{e}' occurred\")\n",
    "\n",
    "# Function to execute a read query \n",
    "def execute_read_query(connection, query, data=None):\n",
    "    cursor = connection.cursor()\n",
    "    result = None\n",
    "    try:\n",
    "        cursor.execute(query)\n",
    "        result = cursor.fetchall()\n",
    "        return result\n",
    "    except Error as e:\n",
    "        print(f\"The error '{e}' occurred\")\n",
    "\n",
    "\n",
    "host_name = \"localhost\"\n",
    "user_name = \"root\"\n",
    "user_password = \"StarGazer97@\"\n",
    "db_name = \"lifedb\"\n",
    "\n",
    "# Create connection\n",
    "connection = create_connection(host_name, user_name, user_password, db_name)\n",
    "\n"
   ]
  },
  {
   "cell_type": "code",
   "execution_count": 38,
   "metadata": {},
   "outputs": [
    {
     "name": "stdout",
     "output_type": "stream",
     "text": [
      "Tables in the database:\n",
      "books\n",
      "games\n",
      "movies\n",
      "music\n",
      "tvseries\n"
     ]
    }
   ],
   "source": [
    "# Show Tables\n",
    "# Query to show tables in the database\n",
    "show_tables_query = \"SHOW TABLES\"\n",
    "\n",
    "# Execute the query and fetch the result\n",
    "tables = execute_read_query(connection, show_tables_query)\n",
    "\n",
    "# Print the result\n",
    "print(\"Tables in the database:\")\n",
    "for table in tables:\n",
    "    print(table[0])\n"
   ]
  },
  {
   "cell_type": "code",
   "execution_count": 9,
   "metadata": {},
   "outputs": [
    {
     "name": "stdout",
     "output_type": "stream",
     "text": [
      "Column Information:\n",
      "Column Name: ISBN, Type: varchar(100)\n",
      "Column Name: title, Type: varchar(100)\n",
      "Column Name: writer_lastname, Type: varchar(100)\n",
      "Column Name: writer_firstname, Type: varchar(100)\n",
      "Column Name: genre, Type: varchar(20)\n",
      "Column Name: publication_date, Type: date\n",
      "Number of columns: 6\n"
     ]
    }
   ],
   "source": [
    "# Query to describe the table (replace 'your_table_name' with the actual table name)\n",
    "describe_table_query = \"DESCRIBE books\"\n",
    "\n",
    "# Execute the query and fetch the result\n",
    "columns = execute_read_query(connection, describe_table_query)\n",
    "\n",
    "# Print the column names and types\n",
    "print(\"Column Information:\")\n",
    "for column in columns:\n",
    "    print(f\"Column Name: {column[0]}, Type: {column[1]}\")\n",
    "    \n",
    "print(f\"Number of columns: {len(columns)}\")"
   ]
  },
  {
   "cell_type": "code",
   "execution_count": 10,
   "metadata": {},
   "outputs": [
    {
     "name": "stdout",
     "output_type": "stream",
     "text": [
      "The error '1064 (42000): You have an error in your SQL syntax; check the manual that corresponds to your MySQL server version for the right syntax to use near '%s, %s, %s, %s, %s, %s)' at line 1' occurred\n"
     ]
    }
   ],
   "source": [
    "# Query to Insert rows into Table\n",
    "insert_query = \"\"\"\n",
    "INSERT INTO books (ISBN, title, writer_lastname, writer_firstname, genre, publication_date) VALUES(%s, %s, %s, %s, %s, %s)\n",
    "\"\"\"\n",
    "\n",
    "# Data to be inserted\n",
    "new_book = (\"9781613743416\", \"Roadside Picnic\", \"Strugatsky\", \"ArkadyBoris\", \"Science-Fiction\", \"1997-05-05\")\n",
    "\n",
    "# Execute the insert query\n",
    "execute_query(connection, insert_query, new_book)"
   ]
  },
  {
   "cell_type": "code",
   "execution_count": 11,
   "metadata": {},
   "outputs": [
    {
     "name": "stdout",
     "output_type": "stream",
     "text": [
      "('9780312367541', 'A Wrinkle in Time', 'LEngle', 'Madeleine', 'Fantasy', datetime.date(1962, 1, 1))\n"
     ]
    }
   ],
   "source": [
    "# Query to select all rows from a table\n",
    "select_query = \"SELECT * FROM books\"  \n",
    "\n",
    "# Execute the query and fetch results\n",
    "results = execute_read_query(connection, select_query)\n",
    "\n",
    "# Print the results\n",
    "for row in results:\n",
    "    print(row)"
   ]
  },
  {
   "cell_type": "code",
   "execution_count": null,
   "metadata": {},
   "outputs": [],
   "source": []
  }
 ],
 "metadata": {
  "kernelspec": {
   "display_name": "Python 3 (ipykernel)",
   "language": "python",
   "name": "python3"
  },
  "language_info": {
   "codemirror_mode": {
    "name": "ipython",
    "version": 3
   },
   "file_extension": ".py",
   "mimetype": "text/x-python",
   "name": "python",
   "nbconvert_exporter": "python",
   "pygments_lexer": "ipython3",
   "version": "3.12.2"
  }
 },
 "nbformat": 4,
 "nbformat_minor": 4
}
